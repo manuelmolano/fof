{
 "cells": [
  {
   "cell_type": "markdown",
   "metadata": {},
   "source": [
    "___\n",
    "## EPHYS analysis\n",
    "___"
   ]
  },
  {
   "cell_type": "code",
   "execution_count": 1,
   "metadata": {
    "jupyter": {
     "source_hidden": true
    }
   },
   "outputs": [],
   "source": [
    "# Load modules and data\n",
    "import statsmodels.api as sm\n",
    "from sklearn.linear_model import LogisticRegression\n",
    "\n",
    "#Import all needed libraries\n",
    "from matplotlib.lines import Line2D\n",
    "import os\n",
    "import pandas as pd\n",
    "import numpy as np\n",
    "import seaborn as sns\n",
    "import matplotlib.pyplot as plt\n",
    "import scipy\n",
    "from matplotlib.backends.backend_pdf import PdfPages\n",
    "import matplotlib.patches as mpatches\n",
    "from statannot import add_stat_annotation\n",
    "import itertools\n",
    "from scipy import stats\n",
    "from datahandler import Utils\n",
    "from ast import literal_eval\n",
    "from glob import glob\n",
    "from open_ephys.analysis import Session\n",
    "import pyopenephys\n",
    "from statsmodels.genmod.bayes_mixed_glm import BinomialBayesMixedGLM"
   ]
  },
  {
   "cell_type": "code",
   "execution_count": 2,
   "metadata": {
    "jupyter": {
     "source_hidden": true
    }
   },
   "outputs": [],
   "source": [
    "def ApplyChannelMap(Data, ChannelMap):\n",
    "    print('Retrieving channels according to ChannelMap... ', end='')\n",
    "    for R, Rec in Data.items():\n",
    "        if Rec.shape[1] < len(ChannelMap) or max(ChannelMap) > Rec.shape[1]-1:\n",
    "            print('')\n",
    "            print('Not enough channels in data to apply channel map. Skipping...')\n",
    "            continue\n",
    "\n",
    "        Data[R] = Data[R][:,ChannelMap]\n",
    "\n",
    "    return(Data)\n",
    "\n",
    "def BitsToVolts(Data, ChInfo, Unit):\n",
    "    print('Converting to uV... ', end='')\n",
    "    Data = {R: Rec.astype('float32') for R, Rec in Data.items()}\n",
    "\n",
    "    if Unit.lower() == 'uv': U = 1\n",
    "    elif Unit.lower() == 'mv': U = 10**-3\n",
    "\n",
    "    for R in Data.keys():\n",
    "        for C in range(len(ChInfo)):\n",
    "            Data[R][:,C] = Data[R][:,C] * ChInfo[C]['bit_volts'] * U\n",
    "            if 'ADC' in ChInfo[C]['channel_name']: Data[R][:,C] *= 10**6\n",
    "\n",
    "    return(Data)\n",
    "\n",
    "def Load(Folder, Processor=None, Experiment=None, Recording=None, Unit='uV', ChannelMap=[]):\n",
    "    Files = sorted(glob(Folder+'/**/*.dat', recursive=True))\n",
    "    InfoFiles = sorted(glob(Folder+'/*/*/structure.oebin'))\n",
    "\n",
    "    Data, Rate = {}, {}\n",
    "    for F,File in enumerate(Files):\n",
    "        File = File.replace('\\\\', '/') # Replace windows file delims\n",
    "        Exp, Rec, _, Proc = File.split('/')[-5:-1]\n",
    "        Exp = str(int(Exp[10:])-1)\n",
    "        Rec = str(int(Rec[9:])-1)\n",
    "        Proc = Proc.split('.')[0].split('-')[-1]\n",
    "        if '_' in Proc: Proc = Proc.split('_')[0]\n",
    "\n",
    "        if Proc not in Data.keys(): Data[Proc], Rate[Proc] = {}, {}\n",
    "\n",
    "        if Experiment:\n",
    "            if int(Exp) != Experiment-1: continue\n",
    "\n",
    "        if Recording:\n",
    "            if int(Rec) != Recording-1: continue\n",
    "\n",
    "        if Processor:\n",
    "            if Proc != Processor: continue\n",
    "\n",
    "        print('Loading recording', int(Rec)+1, '...')\n",
    "        if Exp not in Data[Proc]: Data[Proc][Exp] = {}\n",
    "        Data[Proc][Exp][Rec] = np.memmap(File, dtype='int16', mode='c')\n",
    "\n",
    "\n",
    "        Info = literal_eval(open(InfoFiles[F]).read())\n",
    "        ProcIndex = [Info['continuous'].index(_) for _ in Info['continuous']\n",
    "                     if str(_['source_processor_id']) == Proc][0] # Changed to source_processor_id from recorded_processor_id\n",
    "\n",
    "        ChNo = Info['continuous'][ProcIndex]['num_channels']\n",
    "        if Data[Proc][Exp][Rec].shape[0]%ChNo:\n",
    "            print('Rec', Rec, 'is broken')\n",
    "            del(Data[Proc][Exp][Rec])\n",
    "            continue\n",
    "\n",
    "        SamplesPerCh = Data[Proc][Exp][Rec].shape[0]//ChNo\n",
    "        Data[Proc][Exp][Rec] = Data[Proc][Exp][Rec].reshape((SamplesPerCh, ChNo))\n",
    "        Rate[Proc][Exp] = Info['continuous'][ProcIndex]['sample_rate']\n",
    "\n",
    "    for Proc in Data.keys():\n",
    "        for Exp in Data[Proc].keys():\n",
    "            if Unit.lower() in ['uv', 'mv']:\n",
    "                ChInfo = Info['continuous'][ProcIndex]['channels']\n",
    "                Data[Proc][Exp] = BitsToVolts(Data[Proc][Exp], ChInfo, Unit)\n",
    "\n",
    "            if ChannelMap: Data[Proc][Exp] = ApplyChannelMap(Data[Proc][Exp], ChannelMap)\n",
    "\n",
    "    print('Done.')\n",
    "\n",
    "    return(Data, Rate)"
   ]
  },
  {
   "cell_type": "code",
   "execution_count": 3,
   "metadata": {},
   "outputs": [],
   "source": [
    "# Importing the data from a session\n",
    "path = 'C:/Users/Tiffany/Documents/Ephys/E10_2021-06-13_12-31-21/'\n",
    "os.getcwd() \n",
    "os.chdir(path)"
   ]
  },
  {
   "cell_type": "code",
   "execution_count": 4,
   "metadata": {},
   "outputs": [],
   "source": [
    "# Load spike sorted data\n",
    "spike_times= np.load('spike_times.npy') # Times of the spikes, array of lists\n",
    "spike_clusters= np.load('spike_clusters.npy') # cluster number of each of the spikes, same length as before\n",
    "df_labels = pd.read_csv(\"cluster_group.tsv\",sep='\\t') # Cluster labels (good, noise, mua) for the previous two arrays"
   ]
  },
  {
   "cell_type": "code",
   "execution_count": 5,
   "metadata": {},
   "outputs": [],
   "source": [
    "# Transforms array of lists into array of ints\n",
    "spike_times_df = [item for sublist in spike_times for item in sublist]"
   ]
  },
  {
   "cell_type": "code",
   "execution_count": 6,
   "metadata": {},
   "outputs": [],
   "source": [
    "# Put the data in a single dataframe, one colum spikes, one colum clusters\n",
    "s1 = pd.Series(spike_times_df, name='times')\n",
    "s2 = pd.Series(spike_clusters, name='cluster_id')\n",
    "df_temp = pd.concat([s1, s2], axis=1)"
   ]
  },
  {
   "cell_type": "code",
   "execution_count": 7,
   "metadata": {},
   "outputs": [],
   "source": [
    "# Merge with cluster labels, use cluster ID to associate each one\n",
    "df = pd.merge(df_temp,df_labels, on=['cluster_id'])"
   ]
  },
  {
   "cell_type": "code",
   "execution_count": 8,
   "metadata": {},
   "outputs": [
    {
     "data": {
      "text/html": [
       "<div>\n",
       "<style scoped>\n",
       "    .dataframe tbody tr th:only-of-type {\n",
       "        vertical-align: middle;\n",
       "    }\n",
       "\n",
       "    .dataframe tbody tr th {\n",
       "        vertical-align: top;\n",
       "    }\n",
       "\n",
       "    .dataframe thead th {\n",
       "        text-align: right;\n",
       "    }\n",
       "</style>\n",
       "<table border=\"1\" class=\"dataframe\">\n",
       "  <thead>\n",
       "    <tr style=\"text-align: right;\">\n",
       "      <th></th>\n",
       "      <th>times</th>\n",
       "      <th>cluster_id</th>\n",
       "      <th>group</th>\n",
       "    </tr>\n",
       "  </thead>\n",
       "  <tbody>\n",
       "    <tr>\n",
       "      <th>0</th>\n",
       "      <td>7165</td>\n",
       "      <td>1193</td>\n",
       "      <td>good</td>\n",
       "    </tr>\n",
       "    <tr>\n",
       "      <th>1</th>\n",
       "      <td>11170</td>\n",
       "      <td>1193</td>\n",
       "      <td>good</td>\n",
       "    </tr>\n",
       "    <tr>\n",
       "      <th>2</th>\n",
       "      <td>18558</td>\n",
       "      <td>1193</td>\n",
       "      <td>good</td>\n",
       "    </tr>\n",
       "    <tr>\n",
       "      <th>3</th>\n",
       "      <td>29010</td>\n",
       "      <td>1193</td>\n",
       "      <td>good</td>\n",
       "    </tr>\n",
       "    <tr>\n",
       "      <th>4</th>\n",
       "      <td>41760</td>\n",
       "      <td>1193</td>\n",
       "      <td>good</td>\n",
       "    </tr>\n",
       "    <tr>\n",
       "      <th>5</th>\n",
       "      <td>46497</td>\n",
       "      <td>1193</td>\n",
       "      <td>good</td>\n",
       "    </tr>\n",
       "    <tr>\n",
       "      <th>6</th>\n",
       "      <td>67490</td>\n",
       "      <td>1193</td>\n",
       "      <td>good</td>\n",
       "    </tr>\n",
       "    <tr>\n",
       "      <th>7</th>\n",
       "      <td>72408</td>\n",
       "      <td>1193</td>\n",
       "      <td>good</td>\n",
       "    </tr>\n",
       "    <tr>\n",
       "      <th>8</th>\n",
       "      <td>73355</td>\n",
       "      <td>1193</td>\n",
       "      <td>good</td>\n",
       "    </tr>\n",
       "    <tr>\n",
       "      <th>9</th>\n",
       "      <td>76159</td>\n",
       "      <td>1193</td>\n",
       "      <td>good</td>\n",
       "    </tr>\n",
       "    <tr>\n",
       "      <th>10</th>\n",
       "      <td>76819</td>\n",
       "      <td>1193</td>\n",
       "      <td>good</td>\n",
       "    </tr>\n",
       "    <tr>\n",
       "      <th>11</th>\n",
       "      <td>121100</td>\n",
       "      <td>1193</td>\n",
       "      <td>good</td>\n",
       "    </tr>\n",
       "    <tr>\n",
       "      <th>12</th>\n",
       "      <td>152666</td>\n",
       "      <td>1193</td>\n",
       "      <td>good</td>\n",
       "    </tr>\n",
       "    <tr>\n",
       "      <th>13</th>\n",
       "      <td>172889</td>\n",
       "      <td>1193</td>\n",
       "      <td>good</td>\n",
       "    </tr>\n",
       "    <tr>\n",
       "      <th>14</th>\n",
       "      <td>175201</td>\n",
       "      <td>1193</td>\n",
       "      <td>good</td>\n",
       "    </tr>\n",
       "    <tr>\n",
       "      <th>15</th>\n",
       "      <td>184376</td>\n",
       "      <td>1193</td>\n",
       "      <td>good</td>\n",
       "    </tr>\n",
       "    <tr>\n",
       "      <th>16</th>\n",
       "      <td>186666</td>\n",
       "      <td>1193</td>\n",
       "      <td>good</td>\n",
       "    </tr>\n",
       "    <tr>\n",
       "      <th>17</th>\n",
       "      <td>200235</td>\n",
       "      <td>1193</td>\n",
       "      <td>good</td>\n",
       "    </tr>\n",
       "    <tr>\n",
       "      <th>18</th>\n",
       "      <td>213523</td>\n",
       "      <td>1193</td>\n",
       "      <td>good</td>\n",
       "    </tr>\n",
       "    <tr>\n",
       "      <th>19</th>\n",
       "      <td>214949</td>\n",
       "      <td>1193</td>\n",
       "      <td>good</td>\n",
       "    </tr>\n",
       "    <tr>\n",
       "      <th>20</th>\n",
       "      <td>320024</td>\n",
       "      <td>1193</td>\n",
       "      <td>good</td>\n",
       "    </tr>\n",
       "    <tr>\n",
       "      <th>21</th>\n",
       "      <td>321088</td>\n",
       "      <td>1193</td>\n",
       "      <td>good</td>\n",
       "    </tr>\n",
       "    <tr>\n",
       "      <th>22</th>\n",
       "      <td>362742</td>\n",
       "      <td>1193</td>\n",
       "      <td>good</td>\n",
       "    </tr>\n",
       "    <tr>\n",
       "      <th>23</th>\n",
       "      <td>431614</td>\n",
       "      <td>1193</td>\n",
       "      <td>good</td>\n",
       "    </tr>\n",
       "    <tr>\n",
       "      <th>24</th>\n",
       "      <td>432244</td>\n",
       "      <td>1193</td>\n",
       "      <td>good</td>\n",
       "    </tr>\n",
       "    <tr>\n",
       "      <th>25</th>\n",
       "      <td>438976</td>\n",
       "      <td>1193</td>\n",
       "      <td>good</td>\n",
       "    </tr>\n",
       "    <tr>\n",
       "      <th>26</th>\n",
       "      <td>472286</td>\n",
       "      <td>1193</td>\n",
       "      <td>good</td>\n",
       "    </tr>\n",
       "    <tr>\n",
       "      <th>27</th>\n",
       "      <td>695720</td>\n",
       "      <td>1193</td>\n",
       "      <td>good</td>\n",
       "    </tr>\n",
       "    <tr>\n",
       "      <th>28</th>\n",
       "      <td>748461</td>\n",
       "      <td>1193</td>\n",
       "      <td>good</td>\n",
       "    </tr>\n",
       "    <tr>\n",
       "      <th>29</th>\n",
       "      <td>867523</td>\n",
       "      <td>1193</td>\n",
       "      <td>good</td>\n",
       "    </tr>\n",
       "    <tr>\n",
       "      <th>...</th>\n",
       "      <td>...</td>\n",
       "      <td>...</td>\n",
       "      <td>...</td>\n",
       "    </tr>\n",
       "    <tr>\n",
       "      <th>498854</th>\n",
       "      <td>72455223</td>\n",
       "      <td>1382</td>\n",
       "      <td>noise</td>\n",
       "    </tr>\n",
       "    <tr>\n",
       "      <th>498855</th>\n",
       "      <td>73029093</td>\n",
       "      <td>1382</td>\n",
       "      <td>noise</td>\n",
       "    </tr>\n",
       "    <tr>\n",
       "      <th>498856</th>\n",
       "      <td>73733927</td>\n",
       "      <td>1382</td>\n",
       "      <td>noise</td>\n",
       "    </tr>\n",
       "    <tr>\n",
       "      <th>498857</th>\n",
       "      <td>73921492</td>\n",
       "      <td>1382</td>\n",
       "      <td>noise</td>\n",
       "    </tr>\n",
       "    <tr>\n",
       "      <th>498858</th>\n",
       "      <td>73922129</td>\n",
       "      <td>1382</td>\n",
       "      <td>noise</td>\n",
       "    </tr>\n",
       "    <tr>\n",
       "      <th>498859</th>\n",
       "      <td>73922534</td>\n",
       "      <td>1382</td>\n",
       "      <td>noise</td>\n",
       "    </tr>\n",
       "    <tr>\n",
       "      <th>498860</th>\n",
       "      <td>74095157</td>\n",
       "      <td>1382</td>\n",
       "      <td>noise</td>\n",
       "    </tr>\n",
       "    <tr>\n",
       "      <th>498861</th>\n",
       "      <td>74368882</td>\n",
       "      <td>1382</td>\n",
       "      <td>noise</td>\n",
       "    </tr>\n",
       "    <tr>\n",
       "      <th>498862</th>\n",
       "      <td>74673162</td>\n",
       "      <td>1382</td>\n",
       "      <td>noise</td>\n",
       "    </tr>\n",
       "    <tr>\n",
       "      <th>498863</th>\n",
       "      <td>74673776</td>\n",
       "      <td>1382</td>\n",
       "      <td>noise</td>\n",
       "    </tr>\n",
       "    <tr>\n",
       "      <th>498864</th>\n",
       "      <td>75985406</td>\n",
       "      <td>1382</td>\n",
       "      <td>noise</td>\n",
       "    </tr>\n",
       "    <tr>\n",
       "      <th>498865</th>\n",
       "      <td>78497600</td>\n",
       "      <td>1382</td>\n",
       "      <td>noise</td>\n",
       "    </tr>\n",
       "    <tr>\n",
       "      <th>498866</th>\n",
       "      <td>70401364</td>\n",
       "      <td>998</td>\n",
       "      <td>noise</td>\n",
       "    </tr>\n",
       "    <tr>\n",
       "      <th>498867</th>\n",
       "      <td>71415258</td>\n",
       "      <td>998</td>\n",
       "      <td>noise</td>\n",
       "    </tr>\n",
       "    <tr>\n",
       "      <th>498868</th>\n",
       "      <td>71110831</td>\n",
       "      <td>1452</td>\n",
       "      <td>noise</td>\n",
       "    </tr>\n",
       "    <tr>\n",
       "      <th>498869</th>\n",
       "      <td>71124973</td>\n",
       "      <td>1452</td>\n",
       "      <td>noise</td>\n",
       "    </tr>\n",
       "    <tr>\n",
       "      <th>498870</th>\n",
       "      <td>72188203</td>\n",
       "      <td>1452</td>\n",
       "      <td>noise</td>\n",
       "    </tr>\n",
       "    <tr>\n",
       "      <th>498871</th>\n",
       "      <td>73030263</td>\n",
       "      <td>1452</td>\n",
       "      <td>noise</td>\n",
       "    </tr>\n",
       "    <tr>\n",
       "      <th>498872</th>\n",
       "      <td>73030652</td>\n",
       "      <td>1452</td>\n",
       "      <td>noise</td>\n",
       "    </tr>\n",
       "    <tr>\n",
       "      <th>498873</th>\n",
       "      <td>75666041</td>\n",
       "      <td>1452</td>\n",
       "      <td>noise</td>\n",
       "    </tr>\n",
       "    <tr>\n",
       "      <th>498874</th>\n",
       "      <td>75905568</td>\n",
       "      <td>1452</td>\n",
       "      <td>noise</td>\n",
       "    </tr>\n",
       "    <tr>\n",
       "      <th>498875</th>\n",
       "      <td>72998413</td>\n",
       "      <td>207</td>\n",
       "      <td>noise</td>\n",
       "    </tr>\n",
       "    <tr>\n",
       "      <th>498876</th>\n",
       "      <td>73007287</td>\n",
       "      <td>207</td>\n",
       "      <td>noise</td>\n",
       "    </tr>\n",
       "    <tr>\n",
       "      <th>498877</th>\n",
       "      <td>75390422</td>\n",
       "      <td>207</td>\n",
       "      <td>noise</td>\n",
       "    </tr>\n",
       "    <tr>\n",
       "      <th>498878</th>\n",
       "      <td>77640904</td>\n",
       "      <td>207</td>\n",
       "      <td>noise</td>\n",
       "    </tr>\n",
       "    <tr>\n",
       "      <th>498879</th>\n",
       "      <td>77912966</td>\n",
       "      <td>207</td>\n",
       "      <td>noise</td>\n",
       "    </tr>\n",
       "    <tr>\n",
       "      <th>498880</th>\n",
       "      <td>74376996</td>\n",
       "      <td>789</td>\n",
       "      <td>noise</td>\n",
       "    </tr>\n",
       "    <tr>\n",
       "      <th>498881</th>\n",
       "      <td>75311804</td>\n",
       "      <td>789</td>\n",
       "      <td>noise</td>\n",
       "    </tr>\n",
       "    <tr>\n",
       "      <th>498882</th>\n",
       "      <td>75776349</td>\n",
       "      <td>789</td>\n",
       "      <td>noise</td>\n",
       "    </tr>\n",
       "    <tr>\n",
       "      <th>498883</th>\n",
       "      <td>76470708</td>\n",
       "      <td>789</td>\n",
       "      <td>noise</td>\n",
       "    </tr>\n",
       "  </tbody>\n",
       "</table>\n",
       "<p>498884 rows × 3 columns</p>\n",
       "</div>"
      ],
      "text/plain": [
       "           times  cluster_id  group\n",
       "0           7165        1193   good\n",
       "1          11170        1193   good\n",
       "2          18558        1193   good\n",
       "3          29010        1193   good\n",
       "4          41760        1193   good\n",
       "5          46497        1193   good\n",
       "6          67490        1193   good\n",
       "7          72408        1193   good\n",
       "8          73355        1193   good\n",
       "9          76159        1193   good\n",
       "10         76819        1193   good\n",
       "11        121100        1193   good\n",
       "12        152666        1193   good\n",
       "13        172889        1193   good\n",
       "14        175201        1193   good\n",
       "15        184376        1193   good\n",
       "16        186666        1193   good\n",
       "17        200235        1193   good\n",
       "18        213523        1193   good\n",
       "19        214949        1193   good\n",
       "20        320024        1193   good\n",
       "21        321088        1193   good\n",
       "22        362742        1193   good\n",
       "23        431614        1193   good\n",
       "24        432244        1193   good\n",
       "25        438976        1193   good\n",
       "26        472286        1193   good\n",
       "27        695720        1193   good\n",
       "28        748461        1193   good\n",
       "29        867523        1193   good\n",
       "...          ...         ...    ...\n",
       "498854  72455223        1382  noise\n",
       "498855  73029093        1382  noise\n",
       "498856  73733927        1382  noise\n",
       "498857  73921492        1382  noise\n",
       "498858  73922129        1382  noise\n",
       "498859  73922534        1382  noise\n",
       "498860  74095157        1382  noise\n",
       "498861  74368882        1382  noise\n",
       "498862  74673162        1382  noise\n",
       "498863  74673776        1382  noise\n",
       "498864  75985406        1382  noise\n",
       "498865  78497600        1382  noise\n",
       "498866  70401364         998  noise\n",
       "498867  71415258         998  noise\n",
       "498868  71110831        1452  noise\n",
       "498869  71124973        1452  noise\n",
       "498870  72188203        1452  noise\n",
       "498871  73030263        1452  noise\n",
       "498872  73030652        1452  noise\n",
       "498873  75666041        1452  noise\n",
       "498874  75905568        1452  noise\n",
       "498875  72998413         207  noise\n",
       "498876  73007287         207  noise\n",
       "498877  75390422         207  noise\n",
       "498878  77640904         207  noise\n",
       "498879  77912966         207  noise\n",
       "498880  74376996         789  noise\n",
       "498881  75311804         789  noise\n",
       "498882  75776349         789  noise\n",
       "498883  76470708         789  noise\n",
       "\n",
       "[498884 rows x 3 columns]"
      ]
     },
     "execution_count": 8,
     "metadata": {},
     "output_type": "execute_result"
    }
   ],
   "source": [
    "df"
   ]
  },
  {
   "cell_type": "code",
   "execution_count": 9,
   "metadata": {},
   "outputs": [],
   "source": [
    "# sns.scatterplot('fixed_times',np.repeat(1,len(df[df['cluster_id']==22][:1000])), data = df[df['cluster_id']==22][:1000],s=30,color='black')"
   ]
  },
  {
   "cell_type": "code",
   "execution_count": 10,
   "metadata": {},
   "outputs": [],
   "source": [
    "# Select only clusters labelled good, which are presumably single units\n",
    "df = df.loc[df.group == 'good']"
   ]
  },
  {
   "cell_type": "code",
   "execution_count": null,
   "metadata": {},
   "outputs": [],
   "source": [
    "# Transform the values per session to seconds. This takes into account the framerate of the recordings, 30000Hz for virtually all the sessions. \n",
    "df['fixed_times'] = (df.times/30000)\n",
    "print(min(df['fixed_times']),max(df['fixed_times']))"
   ]
  },
  {
   "cell_type": "code",
   "execution_count": null,
   "metadata": {},
   "outputs": [],
   "source": [
    "df"
   ]
  },
  {
   "cell_type": "code",
   "execution_count": 13,
   "metadata": {},
   "outputs": [
    {
     "name": "stderr",
     "output_type": "stream",
     "text": [
      "C:\\Users\\Tiffany\\Anaconda3\\envs\\envr\\lib\\site-packages\\seaborn\\_decorators.py:43: FutureWarning: Pass the following variables as keyword args: x, y. From version 0.12, the only valid positional argument will be `data`, and passing other arguments without an explicit keyword will result in an error or misinterpretation.\n",
      "  FutureWarning\n"
     ]
    },
    {
     "data": {
      "text/plain": [
       "<matplotlib.axes._subplots.AxesSubplot at 0x1aa196545f8>"
      ]
     },
     "execution_count": 13,
     "metadata": {},
     "output_type": "execute_result"
    },
    {
     "data": {
      "image/png": "[encoded data removed]",
      "text/plain": [
       "<Figure size 432x288 with 1 Axes>"
      ]
     },
     "metadata": {
      "needs_background": "light"
     },
     "output_type": "display_data"
    }
   ],
   "source": [
    "# Plot the first minute to have an impression of how it looks like\n",
    "sns.scatterplot('fixed_times','cluster_id', data = df.loc[(df['fixed_times']<60)&(df.group=='good')],s=30,color='black')"
   ]
  },
  {
   "cell_type": "code",
   "execution_count": 14,
   "metadata": {},
   "outputs": [
    {
     "data": {
      "text/plain": [
       "54"
      ]
     },
     "execution_count": 14,
     "metadata": {},
     "output_type": "execute_result"
    }
   ],
   "source": [
    "len(df.loc[df.group == 'good'].cluster_id.unique())"
   ]
  },
  {
   "cell_type": "code",
   "execution_count": 15,
   "metadata": {},
   "outputs": [],
   "source": [
    "os.getcwd() \n",
    "os.chdir(path)\n",
    "df.to_csv(path+'spike.csv')"
   ]
  },
  {
   "cell_type": "code",
   "execution_count": 16,
   "metadata": {
    "jupyter": {
     "source_hidden": true
    }
   },
   "outputs": [
    {
     "name": "stderr",
     "output_type": "stream",
     "text": [
      "C:\\Users\\Tiffany\\Anaconda3\\envs\\envr\\lib\\site-packages\\IPython\\core\\interactiveshell.py:3051: DtypeWarning: Columns (0,1,5,6,7,8,9,10,27,28,37,38,47,48,55,56,57,59,60,61,65,66,67,72,73) have mixed types. Specify dtype option on import or set low_memory=False.\n",
      "  interactivity=interactivity, compiler=compiler, result=result)\n"
     ]
    }
   ],
   "source": [
    "batch = 'general'\n",
    "\n",
    "path2 = 'C:/Users/Tiffany/Google Drive/WORKING_MEMORY/EXPERIMENTS/ELECTROPHYSIOLOGY/EphysB/globals'\n",
    "os.getcwd() \n",
    "os.chdir(path2)\n",
    "\n",
    "df_trials = pd.read_csv(path2 + '/global_trials.csv', sep=';')\n",
    "df_params = pd.read_csv(path2 + '/global_params.csv', sep=';')\n",
    "df_behavior = pd.merge(df_params,df_trials, on=['session','subject_name'])\n",
    "\n",
    "#Rename some of the variables for a global consensus.\n",
    "df_behavior = df_behavior.rename(columns={'subject_name': 'subject','hithistory': 'hit', 'probabilities': 'prob', 'validhistory': 'valids'})\n",
    "\n",
    "# #Remove those sessions that the animal wasn't in the final training step: STAGE 3 or above, MOTOR 6, no delay progression (delay lengths remain the same), good accuracy in short trials. \n",
    "df_behavior =  df_behavior.loc[(df_behavior['stage_number'] >= 3)&(df_behavior['motor'] == 6)&(df_behavior['delay_progression']==0)&(df_behavior['accuracy_low'] >= 0.60)&(df_behavior['accuracy'] >= 0.60)]"
   ]
  },
  {
   "cell_type": "code",
   "execution_count": 17,
   "metadata": {},
   "outputs": [],
   "source": [
    "# df = df.loc[(df['drug']=='Ephys')|(df['drug']=='EPHYS')]"
   ]
  },
  {
   "cell_type": "code",
   "execution_count": 18,
   "metadata": {},
   "outputs": [],
   "source": [
    "df_behavior['hit']= df_behavior['hit'].astype(float)"
   ]
  },
  {
   "cell_type": "code",
   "execution_count": 19,
   "metadata": {},
   "outputs": [],
   "source": [
    "# df.groupby(['subject','day']).count()"
   ]
  },
  {
   "cell_type": "code",
   "execution_count": 20,
   "metadata": {},
   "outputs": [],
   "source": [
    "# sns.lineplot('delay_times','hit',data=df[df['subject']=='E13'],marker='o')"
   ]
  },
  {
   "cell_type": "code",
   "execution_count": 21,
   "metadata": {
    "jupyter": {
     "source_hidden": true
    }
   },
   "outputs": [],
   "source": [
    "# fig, ax = plt.subplots(1, 2, sharey=True, figsize=(12,5))\n",
    "# xaxis = [0,1,3,10]\n",
    "# presented_delay = '0.1,1.0,3.0,10.0'\n",
    "\n",
    "# sns.lineplot('delay_times','hit',hue='subject',data=df_behavior.loc[df_behavior['presented_delays']==presented_delay], marker='o', palette = 'GnBu_d', ax=ax[0], legend=False,err_style=None)\n",
    "# plt.ylim(0.5,1)\n",
    "# ax[0].set_ylabel('Accuracy')\n",
    "# ax[1].set_xlabel('Delay times (s)')\n",
    "# ax[0].set_xlabel('Delay times (s)')\n",
    "# sns.despine()\n",
    "\n",
    "# df_results = pd.DataFrame()\n",
    "# df_results['accuracy'] = df_behavior.loc[df_behavior['presented_delays']==presented_delay].groupby(['subject','reward_side','delay_times'])['hit'].mean()\n",
    "# df_results.reset_index(inplace=True)\n",
    "\n",
    "# fit = np.polyfit(xaxis,np.array(df_results.groupby('delay_times')['accuracy'].mean()),1)\n",
    "# fit_fn = np.poly1d(fit) \n",
    "\n",
    "# ax[1].errorbar(xaxis,np.array(df_results.groupby('delay_times')['accuracy'].mean()), fmt='o', markersize= 7, ecolor='grey',color='black', capsize=2)\n",
    "# ax[1].plot(xaxis,np.array(df_results.groupby('delay_times')['accuracy'].mean()), 'ko', xaxis, fit_fn(xaxis), '--k')\n",
    "# ax[1].errorbar(xaxis,np.array(df_results.groupby('delay_times')['accuracy'].mean()),yerr=np.array(df_results.groupby('delay_times')['accuracy'].sem()), fmt='o', markersize= 7, ecolor='grey',color='black', capsize=2)\n",
    "\n",
    "# df_results = pd.DataFrame()\n",
    "# df_results['accuracy'] =df.loc[df['presented_delays']==presented_delay].groupby(['subject','delay_times'])['hit'].mean()\n",
    "# df_results.reset_index(inplace=True)\n",
    "# # sns.lineplot(x='delay_times',y='accuracy', data=df_results, ci='sd', marker='o',ax=ax[1], err_style=\"bars\",alpha=0.6,color='red')\n",
    "\n",
    "# #Print the slopes\n",
    "# slope, intercept, r_value, p_value, std_err = stats.linregress((xaxis,np.array(df_results.groupby('delay_times')['accuracy'].mean())))\n",
    "# print('Slope:'+str(round(slope,3))+' Intercept:'+ str(round(intercept,3))+ ' R_value:'+ str(round(r_value,3)) + ' P_value:'+ str(round(p_value,3)) + ' Std_err:'+ str(std_err))\n"
   ]
  },
  {
   "cell_type": "markdown",
   "metadata": {},
   "source": [
    "___\n",
    "### Recover the ttls of delays from the dat files."
   ]
  },
  {
   "cell_type": "code",
   "execution_count": null,
   "metadata": {},
   "outputs": [],
   "source": [
    "session = Session(path)"
   ]
  },
  {
   "cell_type": "code",
   "execution_count": null,
   "metadata": {
    "jupyter": {
     "source_hidden": true
    }
   },
   "outputs": [],
   "source": [
    "df_behavior = df_behavior.loc[(df_behavior.day == '2021-06-13')&(df_behavior.subject == 'E10')]\n",
    "\n",
    "#Because the first trial has no delay, we need to shift one on the behavioral data in order to fit with the ttl one. \n",
    "df_behavior.delay_times[1:]\n",
    "\n",
    "vector_answer_dev = np.logical_not(np.logical_xor(df_behavior['reward_side'], df_behavior['hit'].astype(int)))\n",
    "vector_answer = np.where(vector_answer_dev==False, 0, 1)\n",
    "df_behavior['vector_answer'] = vector_answer"
   ]
  },
  {
   "cell_type": "code",
   "execution_count": null,
   "metadata": {},
   "outputs": [],
   "source": [
    "try:\n",
    "    samples = session.recordings[0].continuous[0].samples[:,-8]\n",
    "    timestamps = session.recordings[0].continuous[0].timestamps\n",
    "\n",
    "    # samples = session.recordings[0].continuous[0].samples[:,-7]\n",
    "\n",
    "    # Put the data in a single dataframe\n",
    "    s1 = pd.Series(samples, name='samples')\n",
    "    s2 = pd.Series(timestamps, name='timestamps')\n",
    "    df_ttl = pd.concat([s1, s2], axis=1)\n",
    "    \n",
    "except:\n",
    "    # Way to recover the data with recording node (Gui >0.5)\n",
    "    session.recordnodes[0].recordings[0].continuous[0].metadata\n",
    "    samples_delay = session.recordnodes[0].recordings[0].continuous[0].samples[:,-8] # Delay channel. \n",
    "    timestamps = session.recordnodes[0].recordings[0].continuous[0].timestamps\n",
    "    samples_sound = session.recordnodes[0].recordings[0].continuous[0].samples[:,-6] # Sound node \n",
    "\n",
    "    # Put the data in a single dataframe\n",
    "    s1 = pd.Series(samples_delay, name='samples')\n",
    "    s2 = pd.Series(timestamps, name='timestamps')\n",
    "\n",
    "    df_ttl = pd.concat([s1, s2], axis=1)"
   ]
  },
  {
   "cell_type": "code",
   "execution_count": null,
   "metadata": {},
   "outputs": [],
   "source": [
    "# Transform the analog channel to boolean. \n",
    "df_ttl.loc[df_ttl['samples'] >=1000, 'ttl'] = 1\n",
    "df_ttl.loc[df_ttl['samples'] <1000, 'ttl'] = 0\n",
    "\n",
    "# Look for the places where there is a change and it goes from 0 to 1. 1 for on delay and -1 for off delay\n",
    "df_ttl['diff'] = df_ttl.ttl.diff()\n",
    "df_ttl['diff'].unique()"
   ]
  },
  {
   "cell_type": "markdown",
   "metadata": {},
   "source": [
    "On is a 1 and -1 is an off of the delay period"
   ]
  },
  {
   "cell_type": "code",
   "execution_count": null,
   "metadata": {},
   "outputs": [],
   "source": [
    "# Recover the first timestamp of the session. This is important because it is not 0 but when the recording was started. \n",
    "initial = df_ttl.timestamps.iloc[0]"
   ]
  },
  {
   "cell_type": "code",
   "execution_count": null,
   "metadata": {},
   "outputs": [],
   "source": [
    "# Substract the first timestamp and divide by sampling frequency\n",
    "df_ttl.timestamps = (df_ttl.timestamps - initial)/30000"
   ]
  },
  {
   "cell_type": "code",
   "execution_count": null,
   "metadata": {},
   "outputs": [],
   "source": [
    "# Remove the rest of the values that does not have a change. \n",
    "df_ttl = df_ttl.loc[(df_ttl['diff'] == 1)|(df_ttl['diff'] == -1)]"
   ]
  },
  {
   "cell_type": "code",
   "execution_count": null,
   "metadata": {},
   "outputs": [],
   "source": [
    "# Create a new colum with the delay duration\n",
    "df_ttl['delay'] = np.around(df_ttl.loc[(df_ttl['diff'] == 1)|(df_ttl['diff'] == -1)]['timestamps'].diff(),2)"
   ]
  },
  {
   "cell_type": "code",
   "execution_count": null,
   "metadata": {},
   "outputs": [],
   "source": [
    "# Check that we recover all the delays that were used. \n",
    "df_ttl.delay.unique()"
   ]
  },
  {
   "cell_type": "code",
   "execution_count": null,
   "metadata": {},
   "outputs": [],
   "source": [
    "# Save the data in a new csv. \n",
    "os.getcwd() \n",
    "os.chdir(path)\n",
    "df_ttl.to_csv(path+'timestamps.csv')"
   ]
  },
  {
   "cell_type": "code",
   "execution_count": null,
   "metadata": {},
   "outputs": [],
   "source": [
    "# Remove all the colums which don't show the right delay lengths. \n",
    "df_ttl = df_ttl.loc[(df_ttl['delay'] == 1) | (df_ttl['delay'] == 10)| (df_ttl['delay'] == 3.00)| (df_ttl['delay'] == 0.1)]\n",
    "\n",
    "np.array_equal(df.delay_times,df_ttl.delay)"
   ]
  },
  {
   "cell_type": "code",
   "execution_count": null,
   "metadata": {
    "jupyter": {
     "source_hidden": true
    }
   },
   "outputs": [],
   "source": [
    "# file = pyopenephys.File('C:/Users/Tiffany/Documents/Ephys/E11_2021-05-14_14-27-21') \n",
    "# # experiment 1 (0 in Python)\n",
    "# experiment = file.experiments[0]\n",
    "# # recording 1 \n",
    "# recording = experiment.recordings[0]\n",
    "\n",
    "# print('Duration: ', recording.duration)\n",
    "# print('Sampling Rate: ', recording.sample_rate)\n",
    "\n",
    "# analog_signals = recording.analog_signals\n",
    "# events_data = recording.events\n",
    "# spiketrains = recording.spiketrains\n",
    "\n",
    "# # tracking_data are accessible only using binary format\n",
    "# tracking_data = recording.tracking\n",
    "\n",
    "# # plot analog signal of channel 4\n",
    "# signals = analog_signals[0]\n",
    "# fig_an, ax_an = plt.subplots()\n",
    "# ax_an.plot(signals.times, signals.signal[3])\n",
    "\n",
    "# # plot raster for spike trains\n",
    "# fig_sp, ax_sp = plt.subplots()\n",
    "# for i_s, sp in enumerate(spiketrains):\n",
    "#     ax_sp.plot(sp.times, i_s*np.ones(len(sp.times)), '|')\n",
    "\n",
    "# plt.show()"
   ]
  }
 ],
 "metadata": {
  "hide_input": false,
  "kernelspec": {
   "display_name": "Python 3",
   "language": "python",
   "name": "python3"
  },
  "language_info": {
   "codemirror_mode": {
    "name": "ipython",
    "version": 3
   },
   "file_extension": ".py",
   "mimetype": "text/x-python",
   "name": "python",
   "nbconvert_exporter": "python",
   "pygments_lexer": "ipython3",
   "version": "3.7.4"
  },
  "toc": {
   "base_numbering": 1,
   "nav_menu": {},
   "number_sections": true,
   "sideBar": true,
   "skip_h1_title": false,
   "title_cell": "Table of Contents",
   "title_sidebar": "Contents",
   "toc_cell": false,
   "toc_position": {},
   "toc_section_display": true,
   "toc_window_display": false
  },
  "varInspector": {
   "cols": {
    "lenName": 16,
    "lenType": 16,
    "lenVar": 40
   },
   "kernels_config": {
    "python": {
     "delete_cmd_postfix": "",
     "delete_cmd_prefix": "del ",
     "library": "var_list.py",
     "varRefreshCmd": "print(var_dic_list())"
    },
    "r": {
     "delete_cmd_postfix": ") ",
     "delete_cmd_prefix": "rm(",
     "library": "var_list.r",
     "varRefreshCmd": "cat(var_dic_list()) "
    }
   },
   "types_to_exclude": [
    "module",
    "function",
    "builtin_function_or_method",
    "instance",
    "_Feature"
   ],
   "window_display": false
  }
 },
 "nbformat": 4,
 "nbformat_minor": 4
}
