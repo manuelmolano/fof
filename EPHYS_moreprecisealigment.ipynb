{
 "cells": [
  {
   "cell_type": "markdown",
   "metadata": {},
   "source": [
    "___\n",
    "## EPHYS analysis\n",
    "___"
   ]
  },
  {
   "cell_type": "markdown",
   "metadata": {},
   "source": [
    "#### Recover behavior"
   ]
  },
  {
   "cell_type": "code",
   "execution_count": 42,
   "metadata": {
    "jupyter": {
     "source_hidden": true
    },
    "tags": []
   },
   "outputs": [],
   "source": [
    "# Load modules and data\n",
    "import statsmodels.api as sm\n",
    "from sklearn.linear_model import LogisticRegression\n",
    "\n",
    "#Import all needed libraries\n",
    "from matplotlib.lines import Line2D\n",
    "import os\n",
    "import pandas as pd\n",
    "import numpy as np\n",
    "from datahandler import Utils\n",
    "import seaborn as sns\n",
    "import matplotlib.pyplot as plt\n",
    "import scipy\n",
    "from matplotlib.backends.backend_pdf import PdfPages\n",
    "import matplotlib.patches as mpatches\n",
    "from statannot import add_stat_annotation\n",
    "import itertools\n",
    "from scipy import stats\n",
    "from datahandler import Utils\n",
    "from ast import literal_eval\n",
    "from glob import glob\n",
    "from open_ephys.analysis import Session\n",
    "import pyopenephys\n",
    "\n",
    "from statsmodels.genmod.bayes_mixed_glm import BinomialBayesMixedGLM"
   ]
  },
  {
   "cell_type": "code",
   "execution_count": 43,
   "metadata": {},
   "outputs": [
    {
     "name": "stderr",
     "output_type": "stream",
     "text": [
      "C:\\Users\\Tiffany\\Anaconda3\\envs\\envr\\lib\\site-packages\\IPython\\core\\interactiveshell.py:3051: DtypeWarning: Columns (0,1,5,6,7,8,9,10,27,28,37,38,47,48,55,56,57,59,60,61,65,66,67,72,73) have mixed types. Specify dtype option on import or set low_memory=False.\n",
      "  interactivity=interactivity, compiler=compiler, result=result)\n"
     ]
    }
   ],
   "source": [
    "batch = 'general'\n",
    "\n",
    "path2 = 'C:/Users/Tiffany/Google Drive/WORKING_MEMORY/EXPERIMENTS/ELECTROPHYSIOLOGY/EphysB/globals'\n",
    "os.getcwd() \n",
    "os.chdir(path2)\n",
    "\n",
    "df_trials = pd.read_csv(path2 + '/global_trials.csv', sep=';')\n",
    "df_params = pd.read_csv(path2 + '/global_params.csv', sep=';')\n",
    "df_behavior = pd.merge(df_params,df_trials, on=['session','subject_name'])\n",
    "\n",
    "#Rename some of the variables for a global consensus.\n",
    "df_behavior = df_behavior.rename(columns={'subject_name': 'subject','hithistory': 'hit', 'probabilities': 'prob', 'validhistory': 'valids'})\n",
    "\n",
    "# #Remove those sessions that the animal wasn't in the final training step: STAGE 3 or above, MOTOR 6, no delay progression (delay lengths remain the same), good accuracy in short trials. \n",
    "df_behavior =  df_behavior.loc[(df_behavior['stage_number'] >= 3)&(df_behavior['motor'] == 6)&(df_behavior['delay_progression']==0)&(df_behavior['accuracy_low'] >= 0.60)&(df_behavior['accuracy'] >= 0.60)]"
   ]
  },
  {
   "cell_type": "code",
   "execution_count": 44,
   "metadata": {},
   "outputs": [],
   "source": [
    "df_behavior['hit']= df_behavior['hit'].astype(float)"
   ]
  },
  {
   "cell_type": "code",
   "execution_count": 45,
   "metadata": {},
   "outputs": [],
   "source": [
    "# Select only the session and animal that we need\n",
    "df_behavior = df_behavior.loc[(df_behavior.day == '2021-06-13')&(df_behavior.subject == 'E10')]\n",
    "\n",
    "# Compute vector of answers\n",
    "vector_answer_dev = np.logical_not(np.logical_xor(df_behavior['reward_side'], df_behavior['hit'].astype(int)))\n",
    "vector_answer = np.where(vector_answer_dev==False, 0, 1)\n",
    "df_behavior['vector_answer'] = vector_answer"
   ]
  },
  {
   "cell_type": "code",
   "execution_count": 46,
   "metadata": {},
   "outputs": [
    {
     "name": "stderr",
     "output_type": "stream",
     "text": [
      "C:\\Users\\Tiffany\\Anaconda3\\envs\\envr\\lib\\site-packages\\pandas\\core\\indexing.py:190: SettingWithCopyWarning: \n",
      "A value is trying to be set on a copy of a slice from a DataFrame\n",
      "\n",
      "See the caveats in the documentation: http://pandas.pydata.org/pandas-docs/stable/indexing.html#indexing-view-versus-copy\n",
      "  self._setitem_with_indexer(indexer, value)\n"
     ]
    }
   ],
   "source": [
    "# Add a new colum witht he repetition choice\n",
    "df_behavior['repeat_choice'] = np.nan\n",
    "\n",
    "for i in range(len(df_behavior)):\n",
    "    if df_behavior['trials'].iloc[i] != 0:\n",
    "        if df_behavior['vector_answer'].iloc[i-1] == df_behavior['vector_answer'].iloc[i]:\n",
    "            df_behavior['repeat_choice'].iloc[i-1] = 1  # Repeat previous choice\n",
    "        else:\n",
    "            df_behavior['repeat_choice'].iloc[i-1] = 0 # Alternate previous choice"
   ]
  },
  {
   "cell_type": "code",
   "execution_count": 47,
   "metadata": {},
   "outputs": [],
   "source": [
    "#Because the first trial has no delay, we need to shift one on the behavioral data in order to fit with the ttl one. \n",
    "df_behavior = df_behavior[1:]"
   ]
  },
  {
   "cell_type": "code",
   "execution_count": 48,
   "metadata": {},
   "outputs": [],
   "source": [
    "df_behavior = Utils.convert_strings_to_lists(df_behavior, ['L_s', 'C_s','C_e','L_e'])"
   ]
  },
  {
   "cell_type": "code",
   "execution_count": 49,
   "metadata": {},
   "outputs": [],
   "source": [
    "# Add a colum for first lick\n",
    "df_temp =[]\n",
    "for i in range(len(df_behavior)):\n",
    "    if df_behavior.C_s.iloc[i][0] > df_behavior.L_s.iloc[i][0] or np.isnan(df_behavior.C_s.iloc[i][0]):\n",
    "        df_temp.append(df_behavior.L_s.iloc[i][0])\n",
    "    elif df_behavior.C_s.iloc[i][0] < df_behavior.L_s.iloc[i][0] or np.isnan(df_behavior.L_s.iloc[i][0]):\n",
    "        df_temp.append(df_behavior.C_s.iloc[i][0])\n",
    "    else:\n",
    "        df_temp.append(np.nan)\n",
    "df_behavior['lick'] = np.array(df_temp)"
   ]
  },
  {
   "cell_type": "code",
   "execution_count": 51,
   "metadata": {},
   "outputs": [],
   "source": [
    "# Importing the data from a session in Ephys\n",
    "path = 'C:/Users/Tiffany/Documents/Ephys/E10_2021-06-13_12-31-21/'\n",
    "os.getcwd() \n",
    "os.chdir(path)\n",
    "\n",
    "# Recover previous timestamps session\n",
    "df_ttl = pd.read_csv(path + '/timestamps.csv', sep=',')\n",
    "df = pd.read_csv(path + '/spike.csv', sep=',')"
   ]
  },
  {
   "cell_type": "code",
   "execution_count": 52,
   "metadata": {},
   "outputs": [],
   "source": [
    "df_ttl.loc[df_ttl['ttl'] == 1, 'Delay_ON'] = df_ttl['timestamps'] # Mark onset of delays\n",
    "df_ttl.loc[df_ttl['ttl'] == 0, 'Delay_OFF_next'] = df_ttl['timestamps'] # Mark offset of delay"
   ]
  },
  {
   "cell_type": "code",
   "execution_count": 53,
   "metadata": {},
   "outputs": [],
   "source": [
    "# df_ttl['Delay_ON'] = df_ttl.apply(lambda x: x.timestamps if x.ttl == 1 else None, axis=1)\n",
    "# df_ttl['Delay_OFF_next'] = df_ttl.apply(lambda x: x.timestamps if x.ttl == 0 else None, axis=1)"
   ]
  },
  {
   "cell_type": "code",
   "execution_count": 54,
   "metadata": {},
   "outputs": [],
   "source": [
    "# Create new colum with delay offset to measure the delay duration and then remove it\n",
    "df_ttl['Delay_OFF'] = df_ttl['Delay_OFF_next'].shift(-1)\n",
    "df_ttl['Delay_length'] = df_ttl['Delay_OFF']  - df_ttl['Delay_ON'] \n",
    "df_ttl.drop('Delay_OFF_next',axis='columns', inplace=True)"
   ]
  },
  {
   "cell_type": "code",
   "execution_count": 55,
   "metadata": {},
   "outputs": [],
   "source": [
    "df_ttl = df_ttl[df_ttl['Delay_ON'].notna()] # Remove the trials with nans"
   ]
  },
  {
   "cell_type": "code",
   "execution_count": 56,
   "metadata": {},
   "outputs": [],
   "source": [
    "# Prepare a column with trial index. start in 1 because trial 0 doesn't have a delay and is not there. \n",
    "df_ttl['trial'] = np.arange(len(df_ttl))+1"
   ]
  },
  {
   "cell_type": "code",
   "execution_count": 57,
   "metadata": {},
   "outputs": [],
   "source": [
    "# Merge with cluster labels, use trial to associate each one\n",
    "df_behavior.rename(columns= {'trials': 'trial'},inplace=True)\n",
    "df2_behavior = pd.merge(df_behavior,df_ttl, on=['trial'])"
   ]
  },
  {
   "cell_type": "code",
   "execution_count": 58,
   "metadata": {},
   "outputs": [],
   "source": [
    "df_final = pd.DataFrame()\n",
    "# We now have the moment of the onset of the delay and what it corresponds in the behavioral session. If we substract this we can get the start \n",
    "# for every session. Then, we will use the START for everything else. \n",
    "df2_behavior['START'] = df2_behavior['Delay_ON']-df2_behavior['Delay_start']\n",
    "df_final['START'] = df2_behavior['Delay_ON']-df2_behavior['Delay_start']\n",
    "df_final['Delay_ON'] = df2_behavior['Delay_ON']\n",
    "df_final['Delay_OFF'] = df2_behavior['Delay_OFF']"
   ]
  },
  {
   "cell_type": "code",
   "execution_count": 59,
   "metadata": {},
   "outputs": [],
   "source": [
    "df_final['Stimulus_ON'] = df2_behavior['START'] + df2_behavior['StimulusDuration_start']\n",
    "df_final['Response_ON'] = df2_behavior['START'] + df2_behavior['ResponseWindow_start']\n",
    "df_final['Lick_ON'] = df2_behavior['START'] + df2_behavior['lick']\n",
    "df2_behavior['END'] = df2_behavior['START']+ df2_behavior['Motor_out_end']+0.006\n",
    "df_final['Motor_OUT'] = df2_behavior.END  - 2\n",
    "df_final['END'] = df2_behavior.END"
   ]
  },
  {
   "cell_type": "code",
   "execution_count": 60,
   "metadata": {},
   "outputs": [],
   "source": [
    "df_final['vector_answer'] = df2_behavior['vector_answer']\n",
    "df_final['reward_side'] = df2_behavior['reward_side']\n",
    "df_final['hit'] = df2_behavior['hit']\n",
    "df_final['repeat_choice'] = df2_behavior['repeat_choice']\n",
    "df_final['miss'] = df2_behavior['misshistory']\n",
    "df_final['trial'] = df2_behavior['trial']\n",
    "df_final['delay'] = np.around(df2_behavior['Delay_OFF']-df2_behavior['Delay_ON'],2)"
   ]
  },
  {
   "cell_type": "code",
   "execution_count": 61,
   "metadata": {},
   "outputs": [],
   "source": [
    "# df_final.drop(df_final.tail(1).index,inplace=True) # drop last n rows"
   ]
  },
  {
   "cell_type": "code",
   "execution_count": 62,
   "metadata": {},
   "outputs": [
    {
     "data": {
      "text/html": [
       "<div>\n",
       "<style scoped>\n",
       "    .dataframe tbody tr th:only-of-type {\n",
       "        vertical-align: middle;\n",
       "    }\n",
       "\n",
       "    .dataframe tbody tr th {\n",
       "        vertical-align: top;\n",
       "    }\n",
       "\n",
       "    .dataframe thead th {\n",
       "        text-align: right;\n",
       "    }\n",
       "</style>\n",
       "<table border=\"1\" class=\"dataframe\">\n",
       "  <thead>\n",
       "    <tr style=\"text-align: right;\">\n",
       "      <th></th>\n",
       "      <th>START</th>\n",
       "      <th>Delay_ON</th>\n",
       "      <th>Delay_OFF</th>\n",
       "      <th>Stimulus_ON</th>\n",
       "      <th>Response_ON</th>\n",
       "      <th>Lick_ON</th>\n",
       "      <th>Motor_OUT</th>\n",
       "      <th>END</th>\n",
       "      <th>vector_answer</th>\n",
       "      <th>reward_side</th>\n",
       "      <th>hit</th>\n",
       "      <th>repeat_choice</th>\n",
       "      <th>miss</th>\n",
       "      <th>trial</th>\n",
       "      <th>delay</th>\n",
       "    </tr>\n",
       "  </thead>\n",
       "  <tbody>\n",
       "    <tr>\n",
       "      <th>217</th>\n",
       "      <td>2565.78</td>\n",
       "      <td>2566.724033</td>\n",
       "      <td>2567.724067</td>\n",
       "      <td>2566.29</td>\n",
       "      <td>2567.92</td>\n",
       "      <td>NaN</td>\n",
       "      <td>2573.96</td>\n",
       "      <td>2575.96</td>\n",
       "      <td>1</td>\n",
       "      <td>0.0</td>\n",
       "      <td>0.0</td>\n",
       "      <td>1.0</td>\n",
       "      <td>True</td>\n",
       "      <td>218.0</td>\n",
       "      <td>1.0</td>\n",
       "    </tr>\n",
       "    <tr>\n",
       "      <th>218</th>\n",
       "      <td>2575.96</td>\n",
       "      <td>2576.905633</td>\n",
       "      <td>2586.905733</td>\n",
       "      <td>2576.48</td>\n",
       "      <td>2587.11</td>\n",
       "      <td>2587.34</td>\n",
       "      <td>2593.38</td>\n",
       "      <td>2595.38</td>\n",
       "      <td>1</td>\n",
       "      <td>0.0</td>\n",
       "      <td>0.0</td>\n",
       "      <td>0.0</td>\n",
       "      <td>False</td>\n",
       "      <td>219.0</td>\n",
       "      <td>10.0</td>\n",
       "    </tr>\n",
       "    <tr>\n",
       "      <th>219</th>\n",
       "      <td>2595.38</td>\n",
       "      <td>2596.324500</td>\n",
       "      <td>2596.424533</td>\n",
       "      <td>2595.89</td>\n",
       "      <td>2596.62</td>\n",
       "      <td>NaN</td>\n",
       "      <td>2602.66</td>\n",
       "      <td>2604.66</td>\n",
       "      <td>0</td>\n",
       "      <td>1.0</td>\n",
       "      <td>0.0</td>\n",
       "      <td>1.0</td>\n",
       "      <td>True</td>\n",
       "      <td>220.0</td>\n",
       "      <td>0.1</td>\n",
       "    </tr>\n",
       "    <tr>\n",
       "      <th>220</th>\n",
       "      <td>2604.67</td>\n",
       "      <td>2605.606500</td>\n",
       "      <td>2615.606633</td>\n",
       "      <td>2605.18</td>\n",
       "      <td>2615.81</td>\n",
       "      <td>2615.98</td>\n",
       "      <td>2620.02</td>\n",
       "      <td>2622.02</td>\n",
       "      <td>0</td>\n",
       "      <td>0.0</td>\n",
       "      <td>1.0</td>\n",
       "      <td>1.0</td>\n",
       "      <td>False</td>\n",
       "      <td>221.0</td>\n",
       "      <td>10.0</td>\n",
       "    </tr>\n",
       "    <tr>\n",
       "      <th>221</th>\n",
       "      <td>2622.03</td>\n",
       "      <td>2622.972567</td>\n",
       "      <td>2625.972633</td>\n",
       "      <td>2622.54</td>\n",
       "      <td>2626.17</td>\n",
       "      <td>2626.44</td>\n",
       "      <td>NaN</td>\n",
       "      <td>NaN</td>\n",
       "      <td>0</td>\n",
       "      <td>1.0</td>\n",
       "      <td>0.0</td>\n",
       "      <td>NaN</td>\n",
       "      <td>False</td>\n",
       "      <td>222.0</td>\n",
       "      <td>3.0</td>\n",
       "    </tr>\n",
       "  </tbody>\n",
       "</table>\n",
       "</div>"
      ],
      "text/plain": [
       "       START     Delay_ON    Delay_OFF Stimulus_ON Response_ON  Lick_ON  \\\n",
       "217  2565.78  2566.724033  2567.724067     2566.29     2567.92      NaN   \n",
       "218  2575.96  2576.905633  2586.905733     2576.48     2587.11  2587.34   \n",
       "219  2595.38  2596.324500  2596.424533     2595.89     2596.62      NaN   \n",
       "220  2604.67  2605.606500  2615.606633     2605.18     2615.81  2615.98   \n",
       "221  2622.03  2622.972567  2625.972633     2622.54     2626.17  2626.44   \n",
       "\n",
       "    Motor_OUT      END  vector_answer  reward_side  hit  repeat_choice   miss  \\\n",
       "217   2573.96  2575.96              1          0.0  0.0            1.0   True   \n",
       "218   2593.38  2595.38              1          0.0  0.0            0.0  False   \n",
       "219   2602.66  2604.66              0          1.0  0.0            1.0   True   \n",
       "220   2620.02  2622.02              0          0.0  1.0            1.0  False   \n",
       "221       NaN      NaN              0          1.0  0.0            NaN  False   \n",
       "\n",
       "     trial  delay  \n",
       "217  218.0    1.0  \n",
       "218  219.0   10.0  \n",
       "219  220.0    0.1  \n",
       "220  221.0   10.0  \n",
       "221  222.0    3.0  "
      ]
     },
     "execution_count": 62,
     "metadata": {},
     "output_type": "execute_result"
    }
   ],
   "source": [
    "df_final.tail()"
   ]
  },
  {
   "cell_type": "code",
   "execution_count": 63,
   "metadata": {},
   "outputs": [],
   "source": [
    "df['trial'] = 0\n",
    "for i,rows in df_final.iterrows():\n",
    "    # create a list of our conditions\n",
    "    conditions = [(df.fixed_times > df_final['START'].iloc[i])&(df.fixed_times <= df_final['END'].iloc[i]),\n",
    "                 (df.fixed_times < df_final['START'].iloc[i])]\n",
    "\n",
    "    # create a list of the values we want to assign for each condition\n",
    "    values = [df_final['trial'].iloc[i],df['trial']]\n",
    "\n",
    "    # create a new column and use np.select to assign values to it using our lists as arguments\n",
    "    df['trial'] = np.select(conditions, values)"
   ]
  },
  {
   "cell_type": "code",
   "execution_count": 64,
   "metadata": {},
   "outputs": [
    {
     "name": "stdout",
     "output_type": "stream",
     "text": [
      "524.0904666666667 541.6286666666666\n"
     ]
    }
   ],
   "source": [
    "print(df_final[df_final['trial'] ==46]['START'].iloc[0],df_final[df_final['trial'] ==46]['END'].iloc[0])"
   ]
  },
  {
   "cell_type": "code",
   "execution_count": 65,
   "metadata": {},
   "outputs": [],
   "source": [
    "# Merge with cluster labels, use cluster ID to associate each one\n",
    "df3 = pd.merge(df,df_final, on=['trial'])"
   ]
  },
  {
   "cell_type": "code",
   "execution_count": 66,
   "metadata": {},
   "outputs": [
    {
     "data": {
      "text/html": [
       "<div>\n",
       "<style scoped>\n",
       "    .dataframe tbody tr th:only-of-type {\n",
       "        vertical-align: middle;\n",
       "    }\n",
       "\n",
       "    .dataframe tbody tr th {\n",
       "        vertical-align: top;\n",
       "    }\n",
       "\n",
       "    .dataframe thead th {\n",
       "        text-align: right;\n",
       "    }\n",
       "</style>\n",
       "<table border=\"1\" class=\"dataframe\">\n",
       "  <thead>\n",
       "    <tr style=\"text-align: right;\">\n",
       "      <th></th>\n",
       "      <th>Unnamed: 0</th>\n",
       "      <th>times</th>\n",
       "      <th>cluster_id</th>\n",
       "      <th>group</th>\n",
       "      <th>fixed_times</th>\n",
       "      <th>trial</th>\n",
       "      <th>START</th>\n",
       "      <th>Delay_ON</th>\n",
       "      <th>Delay_OFF</th>\n",
       "      <th>Stimulus_ON</th>\n",
       "      <th>Response_ON</th>\n",
       "      <th>Lick_ON</th>\n",
       "      <th>Motor_OUT</th>\n",
       "      <th>END</th>\n",
       "      <th>vector_answer</th>\n",
       "      <th>reward_side</th>\n",
       "      <th>hit</th>\n",
       "      <th>repeat_choice</th>\n",
       "      <th>miss</th>\n",
       "      <th>delay</th>\n",
       "    </tr>\n",
       "  </thead>\n",
       "  <tbody>\n",
       "    <tr>\n",
       "      <th>0</th>\n",
       "      <td>181</td>\n",
       "      <td>2644240</td>\n",
       "      <td>1193</td>\n",
       "      <td>good</td>\n",
       "      <td>88.141333</td>\n",
       "      <td>1.0</td>\n",
       "      <td>88.1202</td>\n",
       "      <td>89.061367</td>\n",
       "      <td>89.1614</td>\n",
       "      <td>88.6314</td>\n",
       "      <td>89.3687</td>\n",
       "      <td>89.4452</td>\n",
       "      <td>93.4885</td>\n",
       "      <td>95.4885</td>\n",
       "      <td>0</td>\n",
       "      <td>0.0</td>\n",
       "      <td>1.0</td>\n",
       "      <td>1.0</td>\n",
       "      <td>False</td>\n",
       "      <td>0.1</td>\n",
       "    </tr>\n",
       "    <tr>\n",
       "      <th>1</th>\n",
       "      <td>182</td>\n",
       "      <td>2647937</td>\n",
       "      <td>1193</td>\n",
       "      <td>good</td>\n",
       "      <td>88.264567</td>\n",
       "      <td>1.0</td>\n",
       "      <td>88.1202</td>\n",
       "      <td>89.061367</td>\n",
       "      <td>89.1614</td>\n",
       "      <td>88.6314</td>\n",
       "      <td>89.3687</td>\n",
       "      <td>89.4452</td>\n",
       "      <td>93.4885</td>\n",
       "      <td>95.4885</td>\n",
       "      <td>0</td>\n",
       "      <td>0.0</td>\n",
       "      <td>1.0</td>\n",
       "      <td>1.0</td>\n",
       "      <td>False</td>\n",
       "      <td>0.1</td>\n",
       "    </tr>\n",
       "    <tr>\n",
       "      <th>2</th>\n",
       "      <td>183</td>\n",
       "      <td>2652582</td>\n",
       "      <td>1193</td>\n",
       "      <td>good</td>\n",
       "      <td>88.419400</td>\n",
       "      <td>1.0</td>\n",
       "      <td>88.1202</td>\n",
       "      <td>89.061367</td>\n",
       "      <td>89.1614</td>\n",
       "      <td>88.6314</td>\n",
       "      <td>89.3687</td>\n",
       "      <td>89.4452</td>\n",
       "      <td>93.4885</td>\n",
       "      <td>95.4885</td>\n",
       "      <td>0</td>\n",
       "      <td>0.0</td>\n",
       "      <td>1.0</td>\n",
       "      <td>1.0</td>\n",
       "      <td>False</td>\n",
       "      <td>0.1</td>\n",
       "    </tr>\n",
       "    <tr>\n",
       "      <th>3</th>\n",
       "      <td>184</td>\n",
       "      <td>2653604</td>\n",
       "      <td>1193</td>\n",
       "      <td>good</td>\n",
       "      <td>88.453467</td>\n",
       "      <td>1.0</td>\n",
       "      <td>88.1202</td>\n",
       "      <td>89.061367</td>\n",
       "      <td>89.1614</td>\n",
       "      <td>88.6314</td>\n",
       "      <td>89.3687</td>\n",
       "      <td>89.4452</td>\n",
       "      <td>93.4885</td>\n",
       "      <td>95.4885</td>\n",
       "      <td>0</td>\n",
       "      <td>0.0</td>\n",
       "      <td>1.0</td>\n",
       "      <td>1.0</td>\n",
       "      <td>False</td>\n",
       "      <td>0.1</td>\n",
       "    </tr>\n",
       "    <tr>\n",
       "      <th>4</th>\n",
       "      <td>185</td>\n",
       "      <td>2660092</td>\n",
       "      <td>1193</td>\n",
       "      <td>good</td>\n",
       "      <td>88.669733</td>\n",
       "      <td>1.0</td>\n",
       "      <td>88.1202</td>\n",
       "      <td>89.061367</td>\n",
       "      <td>89.1614</td>\n",
       "      <td>88.6314</td>\n",
       "      <td>89.3687</td>\n",
       "      <td>89.4452</td>\n",
       "      <td>93.4885</td>\n",
       "      <td>95.4885</td>\n",
       "      <td>0</td>\n",
       "      <td>0.0</td>\n",
       "      <td>1.0</td>\n",
       "      <td>1.0</td>\n",
       "      <td>False</td>\n",
       "      <td>0.1</td>\n",
       "    </tr>\n",
       "  </tbody>\n",
       "</table>\n",
       "</div>"
      ],
      "text/plain": [
       "   Unnamed: 0    times  cluster_id group  fixed_times  trial    START  \\\n",
       "0         181  2644240        1193  good    88.141333    1.0  88.1202   \n",
       "1         182  2647937        1193  good    88.264567    1.0  88.1202   \n",
       "2         183  2652582        1193  good    88.419400    1.0  88.1202   \n",
       "3         184  2653604        1193  good    88.453467    1.0  88.1202   \n",
       "4         185  2660092        1193  good    88.669733    1.0  88.1202   \n",
       "\n",
       "    Delay_ON  Delay_OFF Stimulus_ON Response_ON  Lick_ON Motor_OUT      END  \\\n",
       "0  89.061367    89.1614     88.6314     89.3687  89.4452   93.4885  95.4885   \n",
       "1  89.061367    89.1614     88.6314     89.3687  89.4452   93.4885  95.4885   \n",
       "2  89.061367    89.1614     88.6314     89.3687  89.4452   93.4885  95.4885   \n",
       "3  89.061367    89.1614     88.6314     89.3687  89.4452   93.4885  95.4885   \n",
       "4  89.061367    89.1614     88.6314     89.3687  89.4452   93.4885  95.4885   \n",
       "\n",
       "   vector_answer  reward_side  hit  repeat_choice   miss  delay  \n",
       "0              0          0.0  1.0            1.0  False    0.1  \n",
       "1              0          0.0  1.0            1.0  False    0.1  \n",
       "2              0          0.0  1.0            1.0  False    0.1  \n",
       "3              0          0.0  1.0            1.0  False    0.1  \n",
       "4              0          0.0  1.0            1.0  False    0.1  "
      ]
     },
     "execution_count": 66,
     "metadata": {},
     "output_type": "execute_result"
    }
   ],
   "source": [
    "df3.head()"
   ]
  },
  {
   "cell_type": "code",
   "execution_count": 67,
   "metadata": {},
   "outputs": [],
   "source": [
    "df3 = df3[df3.trial != df3.trial.unique()[-1]]"
   ]
  },
  {
   "cell_type": "code",
   "execution_count": null,
   "metadata": {},
   "outputs": [],
   "source": [
    "df3['a_Stimulus_ON'] = df3['fixed_times'] - df3['Stimulus_ON']\n",
    "df3['a_Response_ON'] = df3['fixed_times'] - df3['Response_ON']\n",
    "df3['a_Lick_ON'] = df3['fixed_times'] - df3['Lick_ON']\n",
    "df3['a_Delay_OFF'] = df3['fixed_times'] - df3['Delay_OFF']"
   ]
  },
  {
   "cell_type": "code",
   "execution_count": null,
   "metadata": {},
   "outputs": [],
   "source": [
    "min(df3.a_Stimulus_ON)"
   ]
  },
  {
   "cell_type": "code",
   "execution_count": null,
   "metadata": {},
   "outputs": [],
   "source": [
    "# df3 = df3.drop(['times','group','accuracy','accuracy_high','accuracy_left','accuracy_low','accuracy_medium','accuracy_right','box','catch','date_x','date_y','day','delay_h','delay_l','delay_m','correct_trials','index','drug','fixation','invalid_trials','delay_progression_value'], axis=1)"
   ]
  },
  {
   "cell_type": "code",
   "execution_count": null,
   "metadata": {},
   "outputs": [],
   "source": [
    "len(df3)"
   ]
  },
  {
   "cell_type": "code",
   "execution_count": null,
   "metadata": {},
   "outputs": [],
   "source": [
    "df3 = df3.drop(['times','group'], axis=1)"
   ]
  },
  {
   "cell_type": "code",
   "execution_count": null,
   "metadata": {},
   "outputs": [],
   "source": [
    "# Merge with cluster labels, use cluster ID to associate each one\n",
    "# df2.rename(columns= {'trials': 'trial'},inplace=True)\n",
    "# df2 = pd.merge(df2,df_behavior[['lick','trial','vector_answer','reward_side','hit','misshistory','repeat_choice']], on=['trial'])"
   ]
  },
  {
   "cell_type": "code",
   "execution_count": null,
   "metadata": {},
   "outputs": [],
   "source": [
    "# Save the data in a new csv. \n",
    "os.getcwd() \n",
    "os.chdir(path)\n",
    "df3.to_csv(path+'data.csv')"
   ]
  },
  {
   "cell_type": "code",
   "execution_count": null,
   "metadata": {},
   "outputs": [],
   "source": [
    "# COLORLEFT = '#31A2AC'\n",
    "# COLORRIGHT = '#FF8D3F'\n",
    "# with PdfPages(str(cluster)+'.pdf') as pdf:\n",
    "#     for cluster in df3.cluster_id.unique():\n",
    "#             fig, ax = plt.subplots(6, 2, figsize=(8.5, 13.7))   \n",
    "#     #         plt.title(str(cluster))\n",
    "#             sns.scatterplot(x='a_Delay_OFF',y='trial', data= df3.loc[(df3.cluster_id == cluster)&(df3.reward_side == 0)],marker='|', color=COLORLEFT, ax = ax[0][0])\n",
    "#             sns.scatterplot(x='a_Delay_OFF',y='trial', data= df3.loc[(df3.cluster_id == cluster)&(df3.reward_side == 1)],marker='|', color=COLORRIGHT, ax = ax[1][0])\n",
    "#             sns.histplot(data=df3.loc[(df3.cluster_id == cluster)], x=\"a_Delay_OFF\", weights='trial',binwidth=0.250, ax=ax[2][0],stat='frequency',hue='reward_side',kde=True,element=\"step\",palette=[COLORLEFT,COLORRIGHT])\n",
    "#             ax[0][0].set_title('Response ON for Reward side')\n",
    "#             ax[0][0].set_ylabel('Left trials')\n",
    "#             ax[1][0].set_ylabel('Right trials')     \n",
    "#             ax[2][0].set_xlabel('Time (s)')    \n",
    "\n",
    "#             sns.scatterplot(x='a_Delay_OFF',y='trial', data= df3.loc[(df3.cluster_id == cluster)&(df3.hit == 0)],marker='|', color='crimson', ax = ax[3][0])\n",
    "#             sns.scatterplot(x='a_Delay_OFF',y='trial', data= df3.loc[(df3.cluster_id == cluster)&(df3.hit == 1)],marker='|', color='green', ax = ax[4][0])\n",
    "#             sns.histplot(data=df3.loc[(df3.cluster_id == cluster)], x=\"a_Delay_OFF\", binwidth=0.250, ax=ax[5][0],stat='frequency',hue='hit',kde=True,element=\"step\",palette=['crimson','green'])\n",
    "\n",
    "\n",
    "#             sns.scatterplot(x='a_Stimulus_ON',y='trial', data= df3.loc[(df3.cluster_id == cluster)&(df3.reward_side == 0)],marker='|', color=COLORLEFT, ax = ax[0][1])\n",
    "#             sns.scatterplot(x='a_Stimulus_ON',y='trial', data= df3.loc[(df3.cluster_id == cluster)&(df3.reward_side == 1)],marker='|', color=COLORRIGHT, ax = ax[1][1])\n",
    "#             sns.histplot(data=df3.loc[(df3.cluster_id == cluster)], x=\"a_Stimulus_ON\", binwidth=0.250, ax=ax[2][1],stat='frequency',hue='reward_side',kde=True,element=\"step\",palette=[COLORLEFT,COLORRIGHT])\n",
    "\n",
    "#             ax[0][1].set_title('Stimulus ON for Reward side')\n",
    "#             ax[0][1].set_xlabel('Left trials')\n",
    "#             ax[1][1].set_ylabel('Right trials')\n",
    "\n",
    "#             sns.scatterplot(x='a_Stimulus_ON',y='trial', data= df3.loc[(df3.cluster_id == cluster)&(df3.hit == 0)],marker='|', color='crimson', ax = ax[3][1])\n",
    "#             sns.scatterplot(x='a_Stimulus_ON',y='trial', data= df3.loc[(df3.cluster_id == cluster)&(df3.hit == 1)],marker='|', color='green', ax = ax[4][1])        \n",
    "#             sns.histplot(data=df3.loc[(df3.cluster_id == cluster)], x=\"a_Stimulus_ON\", binwidth=0.250, ax=ax[5][1],stat='frequency',hue='hit',kde=True,element=\"step\",palette=['crimson','green'])\n",
    "\n",
    "#             ax[0][1].set_title('Stimulus ON for Reward side')\n",
    "#             ax[0][1].set_xlabel('Left trials')\n",
    "#             ax[1][1].set_ylabel('Right trials')\n",
    "\n",
    "#             sns.despine()\n",
    "\n",
    "#     #         ax[0][1].set_xlim(-0.5,5)\n",
    "\n",
    "#             for i in np.arange(6):\n",
    "#                 ax[i][0].set_xlim(-5,5)\n",
    "#                 ax[i][1].set_xlim(-0.5,10)\n",
    "#                 ax[i][1].vlines(x=0,ymin=0,ymax=max(df3.trial),linestyle=':')\n",
    "#                 ax[i][1].vlines(x=0.4,ymin=0,ymax=max(df3.trial),linestyle=':')\n",
    "#                 ax[i][0].vlines(x=0,ymin=0,ymax=max(df3.trial),linestyle=':')            \n",
    "#             plt.tight_layout()\n",
    "#             plt.close()\n",
    "#         pdf.savefig(fig)  # or you can pass a Figure object to pdf.savefig\n",
    "# #     pdf.savefig(plt.gcf(), transparent=True)  #Saves the current figure into a pdf page\n",
    "# #     plt.close()    "
   ]
  }
 ],
 "metadata": {
  "hide_input": false,
  "kernelspec": {
   "display_name": "Python 3",
   "language": "python",
   "name": "python3"
  },
  "language_info": {
   "codemirror_mode": {
    "name": "ipython",
    "version": 3
   },
   "file_extension": ".py",
   "mimetype": "text/x-python",
   "name": "python",
   "nbconvert_exporter": "python",
   "pygments_lexer": "ipython3",
   "version": "3.7.4"
  },
  "toc": {
   "base_numbering": 1,
   "nav_menu": {},
   "number_sections": true,
   "sideBar": true,
   "skip_h1_title": false,
   "title_cell": "Table of Contents",
   "title_sidebar": "Contents",
   "toc_cell": false,
   "toc_position": {},
   "toc_section_display": true,
   "toc_window_display": false
  },
  "varInspector": {
   "cols": {
    "lenName": 16,
    "lenType": 16,
    "lenVar": 40
   },
   "kernels_config": {
    "python": {
     "delete_cmd_postfix": "",
     "delete_cmd_prefix": "del ",
     "library": "var_list.py",
     "varRefreshCmd": "print(var_dic_list())"
    },
    "r": {
     "delete_cmd_postfix": ") ",
     "delete_cmd_prefix": "rm(",
     "library": "var_list.r",
     "varRefreshCmd": "cat(var_dic_list()) "
    }
   },
   "types_to_exclude": [
    "module",
    "function",
    "builtin_function_or_method",
    "instance",
    "_Feature"
   ],
   "window_display": false
  }
 },
 "nbformat": 4,
 "nbformat_minor": 4
}
